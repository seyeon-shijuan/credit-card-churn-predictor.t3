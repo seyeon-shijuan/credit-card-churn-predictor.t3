{
 "cells": [
  {
   "cell_type": "code",
   "execution_count": 29,
   "metadata": {},
   "outputs": [],
   "source": [
    "import pandas as pd\n",
    "from sklearn.preprocessing import StandardScaler\n",
    "\n",
    "before_dataset = pd.read_pickle(\"../../data/base_dataset_before_std.pkl\")\n",
    "std_dataset = pd.read_pickle(\"../../data/base_dataset_standardized.pkl\")\n",
    "income_dataset = pd.read_csv(\"missing_value_processing_data_yc.csv\")\n",
    "\n",
    "before_dataset[\"Income_Category\"] = income_dataset[\"Converted_Income_Category\"]\n",
    "before_dataset.to_pickle(\"v2_dataset_of_income_before_std.pkl\")\n",
    "data_standadized_skl = StandardScaler().fit_transform(before_dataset)\n",
    "\n",
    "t = pd.DataFrame(data_standadized_skl, columns=before_dataset.columns)\n",
    "t.to_pickle(\"v2_dataset_of_income_standardized.pkl\")"
   ]
  }
 ],
 "metadata": {
  "kernelspec": {
   "display_name": "ai2",
   "language": "python",
   "name": "python3"
  },
  "language_info": {
   "codemirror_mode": {
    "name": "ipython",
    "version": 3
   },
   "file_extension": ".py",
   "mimetype": "text/x-python",
   "name": "python",
   "nbconvert_exporter": "python",
   "pygments_lexer": "ipython3",
   "version": "3.11.4"
  }
 },
 "nbformat": 4,
 "nbformat_minor": 2
}
